{
 "cells": [
  {
   "cell_type": "code",
   "execution_count": 1,
   "metadata": {},
   "outputs": [],
   "source": [
    "import pandas as pd\n",
    "import tensorflow as tf\n",
    "import numpy as np\n",
    "import matplotlib.pyplot as plt\n",
    "\n",
    "#word processing packages\n",
    "import nltk\n",
    "from nltk.corpus import stopwords\n",
    "from nltk.tokenize import word_tokenize\n",
    "import io"
   ]
  },
  {
   "cell_type": "code",
   "execution_count": 2,
   "metadata": {},
   "outputs": [],
   "source": [
    "train = pd.read_csv(\"Quora_train.csv\", encoding=\"utf-8\")"
   ]
  },
  {
   "cell_type": "code",
   "execution_count": 3,
   "metadata": {},
   "outputs": [
    {
     "data": {
      "text/html": [
       "<div>\n",
       "<style scoped>\n",
       "    .dataframe tbody tr th:only-of-type {\n",
       "        vertical-align: middle;\n",
       "    }\n",
       "\n",
       "    .dataframe tbody tr th {\n",
       "        vertical-align: top;\n",
       "    }\n",
       "\n",
       "    .dataframe thead th {\n",
       "        text-align: right;\n",
       "    }\n",
       "</style>\n",
       "<table border=\"1\" class=\"dataframe\">\n",
       "  <thead>\n",
       "    <tr style=\"text-align: right;\">\n",
       "      <th></th>\n",
       "      <th>qid</th>\n",
       "      <th>question_text</th>\n",
       "      <th>target</th>\n",
       "    </tr>\n",
       "  </thead>\n",
       "  <tbody>\n",
       "    <tr>\n",
       "      <th>0</th>\n",
       "      <td>00002165364db923c7e6</td>\n",
       "      <td>How did Quebec nationalists see their province...</td>\n",
       "      <td>0</td>\n",
       "    </tr>\n",
       "    <tr>\n",
       "      <th>1</th>\n",
       "      <td>000032939017120e6e44</td>\n",
       "      <td>Do you have an adopted dog, how would you enco...</td>\n",
       "      <td>0</td>\n",
       "    </tr>\n",
       "    <tr>\n",
       "      <th>2</th>\n",
       "      <td>0000412ca6e4628ce2cf</td>\n",
       "      <td>Why does velocity affect time? Does velocity a...</td>\n",
       "      <td>0</td>\n",
       "    </tr>\n",
       "    <tr>\n",
       "      <th>3</th>\n",
       "      <td>000042bf85aa498cd78e</td>\n",
       "      <td>How did Otto von Guericke used the Magdeburg h...</td>\n",
       "      <td>0</td>\n",
       "    </tr>\n",
       "    <tr>\n",
       "      <th>4</th>\n",
       "      <td>0000455dfa3e01eae3af</td>\n",
       "      <td>Can I convert montra helicon D to a mountain b...</td>\n",
       "      <td>0</td>\n",
       "    </tr>\n",
       "  </tbody>\n",
       "</table>\n",
       "</div>"
      ],
      "text/plain": [
       "                    qid                                      question_text  \\\n",
       "0  00002165364db923c7e6  How did Quebec nationalists see their province...   \n",
       "1  000032939017120e6e44  Do you have an adopted dog, how would you enco...   \n",
       "2  0000412ca6e4628ce2cf  Why does velocity affect time? Does velocity a...   \n",
       "3  000042bf85aa498cd78e  How did Otto von Guericke used the Magdeburg h...   \n",
       "4  0000455dfa3e01eae3af  Can I convert montra helicon D to a mountain b...   \n",
       "\n",
       "   target  \n",
       "0       0  \n",
       "1       0  \n",
       "2       0  \n",
       "3       0  \n",
       "4       0  "
      ]
     },
     "execution_count": 3,
     "metadata": {},
     "output_type": "execute_result"
    }
   ],
   "source": [
    "train.head()"
   ]
  },
  {
   "cell_type": "code",
   "execution_count": 4,
   "metadata": {},
   "outputs": [
    {
     "data": {
      "text/html": [
       "<div>\n",
       "<style scoped>\n",
       "    .dataframe tbody tr th:only-of-type {\n",
       "        vertical-align: middle;\n",
       "    }\n",
       "\n",
       "    .dataframe tbody tr th {\n",
       "        vertical-align: top;\n",
       "    }\n",
       "\n",
       "    .dataframe thead th {\n",
       "        text-align: right;\n",
       "    }\n",
       "</style>\n",
       "<table border=\"1\" class=\"dataframe\">\n",
       "  <thead>\n",
       "    <tr style=\"text-align: right;\">\n",
       "      <th></th>\n",
       "      <th>qid</th>\n",
       "      <th>question_text</th>\n",
       "      <th>target</th>\n",
       "    </tr>\n",
       "  </thead>\n",
       "  <tbody>\n",
       "    <tr>\n",
       "      <th>1306117</th>\n",
       "      <td>ffffcc4e2331aaf1e41e</td>\n",
       "      <td>What other technical skills do you need as a c...</td>\n",
       "      <td>0</td>\n",
       "    </tr>\n",
       "    <tr>\n",
       "      <th>1306118</th>\n",
       "      <td>ffffd431801e5a2f4861</td>\n",
       "      <td>Does MS in ECE have good job prospects in USA ...</td>\n",
       "      <td>0</td>\n",
       "    </tr>\n",
       "    <tr>\n",
       "      <th>1306119</th>\n",
       "      <td>ffffd48fb36b63db010c</td>\n",
       "      <td>Is foam insulation toxic?</td>\n",
       "      <td>0</td>\n",
       "    </tr>\n",
       "    <tr>\n",
       "      <th>1306120</th>\n",
       "      <td>ffffec519fa37cf60c78</td>\n",
       "      <td>How can one start a research project based on ...</td>\n",
       "      <td>0</td>\n",
       "    </tr>\n",
       "    <tr>\n",
       "      <th>1306121</th>\n",
       "      <td>ffffed09fedb5088744a</td>\n",
       "      <td>Who wins in a battle between a Wolverine and a...</td>\n",
       "      <td>0</td>\n",
       "    </tr>\n",
       "  </tbody>\n",
       "</table>\n",
       "</div>"
      ],
      "text/plain": [
       "                          qid  \\\n",
       "1306117  ffffcc4e2331aaf1e41e   \n",
       "1306118  ffffd431801e5a2f4861   \n",
       "1306119  ffffd48fb36b63db010c   \n",
       "1306120  ffffec519fa37cf60c78   \n",
       "1306121  ffffed09fedb5088744a   \n",
       "\n",
       "                                             question_text  target  \n",
       "1306117  What other technical skills do you need as a c...       0  \n",
       "1306118  Does MS in ECE have good job prospects in USA ...       0  \n",
       "1306119                          Is foam insulation toxic?       0  \n",
       "1306120  How can one start a research project based on ...       0  \n",
       "1306121  Who wins in a battle between a Wolverine and a...       0  "
      ]
     },
     "execution_count": 4,
     "metadata": {},
     "output_type": "execute_result"
    }
   ],
   "source": [
    "train.tail()"
   ]
  },
  {
   "cell_type": "code",
   "execution_count": 5,
   "metadata": {},
   "outputs": [
    {
     "data": {
      "text/plain": [
       "(1306122, 3)"
      ]
     },
     "execution_count": 5,
     "metadata": {},
     "output_type": "execute_result"
    }
   ],
   "source": [
    "train.shape"
   ]
  },
  {
   "cell_type": "code",
   "execution_count": 6,
   "metadata": {},
   "outputs": [
    {
     "data": {
      "text/plain": [
       "qid              1306122\n",
       "question_text    1306122\n",
       "target                 2\n",
       "dtype: int64"
      ]
     },
     "execution_count": 6,
     "metadata": {},
     "output_type": "execute_result"
    }
   ],
   "source": [
    "train.nunique()"
   ]
  },
  {
   "cell_type": "code",
   "execution_count": 7,
   "metadata": {},
   "outputs": [
    {
     "data": {
      "text/plain": [
       "0    1225312\n",
       "1      80810\n",
       "Name: target, dtype: int64"
      ]
     },
     "execution_count": 7,
     "metadata": {},
     "output_type": "execute_result"
    }
   ],
   "source": [
    "train.target.value_counts()"
   ]
  },
  {
   "cell_type": "code",
   "execution_count": 8,
   "metadata": {},
   "outputs": [
    {
     "name": "stdout",
     "output_type": "stream",
     "text": [
      "<class 'pandas.core.frame.DataFrame'>\n",
      "RangeIndex: 1306122 entries, 0 to 1306121\n",
      "Data columns (total 3 columns):\n",
      "qid              1306122 non-null object\n",
      "question_text    1306122 non-null object\n",
      "target           1306122 non-null int64\n",
      "dtypes: int64(1), object(2)\n",
      "memory usage: 29.9+ MB\n"
     ]
    }
   ],
   "source": [
    "train.info()"
   ]
  },
  {
   "cell_type": "code",
   "execution_count": 9,
   "metadata": {},
   "outputs": [
    {
     "data": {
      "text/html": [
       "<div>\n",
       "<style scoped>\n",
       "    .dataframe tbody tr th:only-of-type {\n",
       "        vertical-align: middle;\n",
       "    }\n",
       "\n",
       "    .dataframe tbody tr th {\n",
       "        vertical-align: top;\n",
       "    }\n",
       "\n",
       "    .dataframe thead th {\n",
       "        text-align: right;\n",
       "    }\n",
       "</style>\n",
       "<table border=\"1\" class=\"dataframe\">\n",
       "  <thead>\n",
       "    <tr style=\"text-align: right;\">\n",
       "      <th></th>\n",
       "      <th>qid</th>\n",
       "      <th>question_text</th>\n",
       "      <th>target</th>\n",
       "      <th>freq</th>\n",
       "    </tr>\n",
       "  </thead>\n",
       "  <tbody>\n",
       "    <tr>\n",
       "      <th>0</th>\n",
       "      <td>00002165364db923c7e6</td>\n",
       "      <td>How did Quebec nationalists see their province...</td>\n",
       "      <td>0</td>\n",
       "      <td>13</td>\n",
       "    </tr>\n",
       "    <tr>\n",
       "      <th>1</th>\n",
       "      <td>000032939017120e6e44</td>\n",
       "      <td>Do you have an adopted dog, how would you enco...</td>\n",
       "      <td>0</td>\n",
       "      <td>16</td>\n",
       "    </tr>\n",
       "    <tr>\n",
       "      <th>2</th>\n",
       "      <td>0000412ca6e4628ce2cf</td>\n",
       "      <td>Why does velocity affect time? Does velocity a...</td>\n",
       "      <td>0</td>\n",
       "      <td>10</td>\n",
       "    </tr>\n",
       "    <tr>\n",
       "      <th>3</th>\n",
       "      <td>000042bf85aa498cd78e</td>\n",
       "      <td>How did Otto von Guericke used the Magdeburg h...</td>\n",
       "      <td>0</td>\n",
       "      <td>9</td>\n",
       "    </tr>\n",
       "    <tr>\n",
       "      <th>4</th>\n",
       "      <td>0000455dfa3e01eae3af</td>\n",
       "      <td>Can I convert montra helicon D to a mountain b...</td>\n",
       "      <td>0</td>\n",
       "      <td>15</td>\n",
       "    </tr>\n",
       "  </tbody>\n",
       "</table>\n",
       "</div>"
      ],
      "text/plain": [
       "                    qid                                      question_text  \\\n",
       "0  00002165364db923c7e6  How did Quebec nationalists see their province...   \n",
       "1  000032939017120e6e44  Do you have an adopted dog, how would you enco...   \n",
       "2  0000412ca6e4628ce2cf  Why does velocity affect time? Does velocity a...   \n",
       "3  000042bf85aa498cd78e  How did Otto von Guericke used the Magdeburg h...   \n",
       "4  0000455dfa3e01eae3af  Can I convert montra helicon D to a mountain b...   \n",
       "\n",
       "   target  freq  \n",
       "0       0    13  \n",
       "1       0    16  \n",
       "2       0    10  \n",
       "3       0     9  \n",
       "4       0    15  "
      ]
     },
     "execution_count": 9,
     "metadata": {},
     "output_type": "execute_result"
    }
   ],
   "source": [
    "# Creating a word count of text in new column freq\n",
    "train['freq'] = train['question_text'].apply(lambda x: len(x.split()))\n",
    "train.head()"
   ]
  },
  {
   "cell_type": "code",
   "execution_count": 10,
   "metadata": {},
   "outputs": [],
   "source": [
    "train_sample = train.sample(frac=0.01)"
   ]
  },
  {
   "cell_type": "code",
   "execution_count": 11,
   "metadata": {},
   "outputs": [
    {
     "name": "stdout",
     "output_type": "stream",
     "text": [
      "<class 'pandas.core.frame.DataFrame'>\n",
      "Int64Index: 13061 entries, 1244508 to 1015835\n",
      "Data columns (total 4 columns):\n",
      "qid              13061 non-null object\n",
      "question_text    13061 non-null object\n",
      "target           13061 non-null int64\n",
      "freq             13061 non-null int64\n",
      "dtypes: int64(2), object(2)\n",
      "memory usage: 510.2+ KB\n"
     ]
    }
   ],
   "source": [
    "train_sample.info()"
   ]
  },
  {
   "cell_type": "code",
   "execution_count": 12,
   "metadata": {},
   "outputs": [],
   "source": [
    "sentences = train_sample['question_text']"
   ]
  },
  {
   "cell_type": "code",
   "execution_count": 13,
   "metadata": {},
   "outputs": [],
   "source": [
    "import re\n",
    "# Lowercase, then replace any non-letter, space, or digit character in the sentences.\n",
    "new_sentences = [re.sub(r'[^\\w\\s\\d]','',h.lower()) for h in sentences]\n",
    "# Replace sequences of whitespace with a space character.\n",
    "new_sentences = [re.sub(\"\\s+\", \" \", h) for h in new_sentences]"
   ]
  },
  {
   "cell_type": "code",
   "execution_count": 14,
   "metadata": {},
   "outputs": [],
   "source": [
    "train_sample['new_sentences']=new_sentences"
   ]
  },
  {
   "cell_type": "code",
   "execution_count": 15,
   "metadata": {},
   "outputs": [
    {
     "data": {
      "text/html": [
       "<div>\n",
       "<style scoped>\n",
       "    .dataframe tbody tr th:only-of-type {\n",
       "        vertical-align: middle;\n",
       "    }\n",
       "\n",
       "    .dataframe tbody tr th {\n",
       "        vertical-align: top;\n",
       "    }\n",
       "\n",
       "    .dataframe thead th {\n",
       "        text-align: right;\n",
       "    }\n",
       "</style>\n",
       "<table border=\"1\" class=\"dataframe\">\n",
       "  <thead>\n",
       "    <tr style=\"text-align: right;\">\n",
       "      <th></th>\n",
       "      <th>qid</th>\n",
       "      <th>question_text</th>\n",
       "      <th>target</th>\n",
       "      <th>freq</th>\n",
       "      <th>new_sentences</th>\n",
       "    </tr>\n",
       "  </thead>\n",
       "  <tbody>\n",
       "    <tr>\n",
       "      <th>1244508</th>\n",
       "      <td>f3e1ed25bedb236d6c69</td>\n",
       "      <td>Why are so many Indian citizens settling in th...</td>\n",
       "      <td>0</td>\n",
       "      <td>10</td>\n",
       "      <td>why are so many indian citizens settling in th...</td>\n",
       "    </tr>\n",
       "    <tr>\n",
       "      <th>1289653</th>\n",
       "      <td>fcc18992f06ce38efb8d</td>\n",
       "      <td>Is mosquito really important in our ecosystem?</td>\n",
       "      <td>0</td>\n",
       "      <td>7</td>\n",
       "      <td>is mosquito really important in our ecosystem</td>\n",
       "    </tr>\n",
       "    <tr>\n",
       "      <th>408629</th>\n",
       "      <td>50121955e9d87ff128aa</td>\n",
       "      <td>Is there anything called as forensic dentistry?</td>\n",
       "      <td>0</td>\n",
       "      <td>7</td>\n",
       "      <td>is there anything called as forensic dentistry</td>\n",
       "    </tr>\n",
       "    <tr>\n",
       "      <th>940450</th>\n",
       "      <td>b84f889e8df24a359b63</td>\n",
       "      <td>Is it bad if one of my breasts is bigger than ...</td>\n",
       "      <td>0</td>\n",
       "      <td>15</td>\n",
       "      <td>is it bad if one of my breasts is bigger than ...</td>\n",
       "    </tr>\n",
       "    <tr>\n",
       "      <th>909101</th>\n",
       "      <td>b222019c54f87dc0b004</td>\n",
       "      <td>Why is Jimmy Fallon music room so small?</td>\n",
       "      <td>0</td>\n",
       "      <td>8</td>\n",
       "      <td>why is jimmy fallon music room so small</td>\n",
       "    </tr>\n",
       "  </tbody>\n",
       "</table>\n",
       "</div>"
      ],
      "text/plain": [
       "                          qid  \\\n",
       "1244508  f3e1ed25bedb236d6c69   \n",
       "1289653  fcc18992f06ce38efb8d   \n",
       "408629   50121955e9d87ff128aa   \n",
       "940450   b84f889e8df24a359b63   \n",
       "909101   b222019c54f87dc0b004   \n",
       "\n",
       "                                             question_text  target  freq  \\\n",
       "1244508  Why are so many Indian citizens settling in th...       0    10   \n",
       "1289653     Is mosquito really important in our ecosystem?       0     7   \n",
       "408629     Is there anything called as forensic dentistry?       0     7   \n",
       "940450   Is it bad if one of my breasts is bigger than ...       0    15   \n",
       "909101            Why is Jimmy Fallon music room so small?       0     8   \n",
       "\n",
       "                                             new_sentences  \n",
       "1244508  why are so many indian citizens settling in th...  \n",
       "1289653      is mosquito really important in our ecosystem  \n",
       "408629      is there anything called as forensic dentistry  \n",
       "940450   is it bad if one of my breasts is bigger than ...  \n",
       "909101             why is jimmy fallon music room so small  "
      ]
     },
     "execution_count": 15,
     "metadata": {},
     "output_type": "execute_result"
    }
   ],
   "source": [
    "train_sample.head()"
   ]
  },
  {
   "cell_type": "code",
   "execution_count": 16,
   "metadata": {},
   "outputs": [],
   "source": [
    "stop_words = set(stopwords.words('English'))"
   ]
  },
  {
   "cell_type": "code",
   "execution_count": 17,
   "metadata": {},
   "outputs": [],
   "source": [
    "train_sample['new_sentences'] = train_sample['new_sentences'].apply(lambda x: [item for item in str.split(x) if item not in stop_words])"
   ]
  },
  {
   "cell_type": "code",
   "execution_count": 18,
   "metadata": {},
   "outputs": [
    {
     "data": {
      "text/html": [
       "<div>\n",
       "<style scoped>\n",
       "    .dataframe tbody tr th:only-of-type {\n",
       "        vertical-align: middle;\n",
       "    }\n",
       "\n",
       "    .dataframe tbody tr th {\n",
       "        vertical-align: top;\n",
       "    }\n",
       "\n",
       "    .dataframe thead th {\n",
       "        text-align: right;\n",
       "    }\n",
       "</style>\n",
       "<table border=\"1\" class=\"dataframe\">\n",
       "  <thead>\n",
       "    <tr style=\"text-align: right;\">\n",
       "      <th></th>\n",
       "      <th>qid</th>\n",
       "      <th>question_text</th>\n",
       "      <th>target</th>\n",
       "      <th>freq</th>\n",
       "      <th>new_sentences</th>\n",
       "    </tr>\n",
       "  </thead>\n",
       "  <tbody>\n",
       "    <tr>\n",
       "      <th>1244508</th>\n",
       "      <td>f3e1ed25bedb236d6c69</td>\n",
       "      <td>Why are so many Indian citizens settling in th...</td>\n",
       "      <td>0</td>\n",
       "      <td>10</td>\n",
       "      <td>[many, indian, citizens, settling, uk]</td>\n",
       "    </tr>\n",
       "    <tr>\n",
       "      <th>1289653</th>\n",
       "      <td>fcc18992f06ce38efb8d</td>\n",
       "      <td>Is mosquito really important in our ecosystem?</td>\n",
       "      <td>0</td>\n",
       "      <td>7</td>\n",
       "      <td>[mosquito, really, important, ecosystem]</td>\n",
       "    </tr>\n",
       "    <tr>\n",
       "      <th>408629</th>\n",
       "      <td>50121955e9d87ff128aa</td>\n",
       "      <td>Is there anything called as forensic dentistry?</td>\n",
       "      <td>0</td>\n",
       "      <td>7</td>\n",
       "      <td>[anything, called, forensic, dentistry]</td>\n",
       "    </tr>\n",
       "    <tr>\n",
       "      <th>940450</th>\n",
       "      <td>b84f889e8df24a359b63</td>\n",
       "      <td>Is it bad if one of my breasts is bigger than ...</td>\n",
       "      <td>0</td>\n",
       "      <td>15</td>\n",
       "      <td>[bad, one, breasts, bigger, im, male]</td>\n",
       "    </tr>\n",
       "    <tr>\n",
       "      <th>909101</th>\n",
       "      <td>b222019c54f87dc0b004</td>\n",
       "      <td>Why is Jimmy Fallon music room so small?</td>\n",
       "      <td>0</td>\n",
       "      <td>8</td>\n",
       "      <td>[jimmy, fallon, music, room, small]</td>\n",
       "    </tr>\n",
       "  </tbody>\n",
       "</table>\n",
       "</div>"
      ],
      "text/plain": [
       "                          qid  \\\n",
       "1244508  f3e1ed25bedb236d6c69   \n",
       "1289653  fcc18992f06ce38efb8d   \n",
       "408629   50121955e9d87ff128aa   \n",
       "940450   b84f889e8df24a359b63   \n",
       "909101   b222019c54f87dc0b004   \n",
       "\n",
       "                                             question_text  target  freq  \\\n",
       "1244508  Why are so many Indian citizens settling in th...       0    10   \n",
       "1289653     Is mosquito really important in our ecosystem?       0     7   \n",
       "408629     Is there anything called as forensic dentistry?       0     7   \n",
       "940450   Is it bad if one of my breasts is bigger than ...       0    15   \n",
       "909101            Why is Jimmy Fallon music room so small?       0     8   \n",
       "\n",
       "                                    new_sentences  \n",
       "1244508    [many, indian, citizens, settling, uk]  \n",
       "1289653  [mosquito, really, important, ecosystem]  \n",
       "408629    [anything, called, forensic, dentistry]  \n",
       "940450      [bad, one, breasts, bigger, im, male]  \n",
       "909101        [jimmy, fallon, music, room, small]  "
      ]
     },
     "execution_count": 18,
     "metadata": {},
     "output_type": "execute_result"
    }
   ],
   "source": [
    "train_sample.head()"
   ]
  },
  {
   "cell_type": "code",
   "execution_count": 19,
   "metadata": {},
   "outputs": [
    {
     "data": {
      "text/html": [
       "<div>\n",
       "<style scoped>\n",
       "    .dataframe tbody tr th:only-of-type {\n",
       "        vertical-align: middle;\n",
       "    }\n",
       "\n",
       "    .dataframe tbody tr th {\n",
       "        vertical-align: top;\n",
       "    }\n",
       "\n",
       "    .dataframe thead th {\n",
       "        text-align: right;\n",
       "    }\n",
       "</style>\n",
       "<table border=\"1\" class=\"dataframe\">\n",
       "  <thead>\n",
       "    <tr style=\"text-align: right;\">\n",
       "      <th></th>\n",
       "      <th>qid</th>\n",
       "      <th>question_text</th>\n",
       "      <th>target</th>\n",
       "      <th>freq</th>\n",
       "      <th>new_sentences</th>\n",
       "      <th>new_freq</th>\n",
       "    </tr>\n",
       "  </thead>\n",
       "  <tbody>\n",
       "    <tr>\n",
       "      <th>1244508</th>\n",
       "      <td>f3e1ed25bedb236d6c69</td>\n",
       "      <td>Why are so many Indian citizens settling in th...</td>\n",
       "      <td>0</td>\n",
       "      <td>10</td>\n",
       "      <td>[many, indian, citizens, settling, uk]</td>\n",
       "      <td>5</td>\n",
       "    </tr>\n",
       "    <tr>\n",
       "      <th>1289653</th>\n",
       "      <td>fcc18992f06ce38efb8d</td>\n",
       "      <td>Is mosquito really important in our ecosystem?</td>\n",
       "      <td>0</td>\n",
       "      <td>7</td>\n",
       "      <td>[mosquito, really, important, ecosystem]</td>\n",
       "      <td>4</td>\n",
       "    </tr>\n",
       "    <tr>\n",
       "      <th>408629</th>\n",
       "      <td>50121955e9d87ff128aa</td>\n",
       "      <td>Is there anything called as forensic dentistry?</td>\n",
       "      <td>0</td>\n",
       "      <td>7</td>\n",
       "      <td>[anything, called, forensic, dentistry]</td>\n",
       "      <td>4</td>\n",
       "    </tr>\n",
       "    <tr>\n",
       "      <th>940450</th>\n",
       "      <td>b84f889e8df24a359b63</td>\n",
       "      <td>Is it bad if one of my breasts is bigger than ...</td>\n",
       "      <td>0</td>\n",
       "      <td>15</td>\n",
       "      <td>[bad, one, breasts, bigger, im, male]</td>\n",
       "      <td>6</td>\n",
       "    </tr>\n",
       "    <tr>\n",
       "      <th>909101</th>\n",
       "      <td>b222019c54f87dc0b004</td>\n",
       "      <td>Why is Jimmy Fallon music room so small?</td>\n",
       "      <td>0</td>\n",
       "      <td>8</td>\n",
       "      <td>[jimmy, fallon, music, room, small]</td>\n",
       "      <td>5</td>\n",
       "    </tr>\n",
       "  </tbody>\n",
       "</table>\n",
       "</div>"
      ],
      "text/plain": [
       "                          qid  \\\n",
       "1244508  f3e1ed25bedb236d6c69   \n",
       "1289653  fcc18992f06ce38efb8d   \n",
       "408629   50121955e9d87ff128aa   \n",
       "940450   b84f889e8df24a359b63   \n",
       "909101   b222019c54f87dc0b004   \n",
       "\n",
       "                                             question_text  target  freq  \\\n",
       "1244508  Why are so many Indian citizens settling in th...       0    10   \n",
       "1289653     Is mosquito really important in our ecosystem?       0     7   \n",
       "408629     Is there anything called as forensic dentistry?       0     7   \n",
       "940450   Is it bad if one of my breasts is bigger than ...       0    15   \n",
       "909101            Why is Jimmy Fallon music room so small?       0     8   \n",
       "\n",
       "                                    new_sentences  new_freq  \n",
       "1244508    [many, indian, citizens, settling, uk]         5  \n",
       "1289653  [mosquito, really, important, ecosystem]         4  \n",
       "408629    [anything, called, forensic, dentistry]         4  \n",
       "940450      [bad, one, breasts, bigger, im, male]         6  \n",
       "909101        [jimmy, fallon, music, room, small]         5  "
      ]
     },
     "execution_count": 19,
     "metadata": {},
     "output_type": "execute_result"
    }
   ],
   "source": [
    "train_sample['new_freq'] = train_sample['new_sentences'].apply(lambda x: len(x))\n",
    "train_sample.head()"
   ]
  }
 ],
 "metadata": {
  "kernelspec": {
   "display_name": "Python [conda env:anaconda3]",
   "language": "python",
   "name": "conda-env-anaconda3-py"
  },
  "language_info": {
   "codemirror_mode": {
    "name": "ipython",
    "version": 3
   },
   "file_extension": ".py",
   "mimetype": "text/x-python",
   "name": "python",
   "nbconvert_exporter": "python",
   "pygments_lexer": "ipython3",
   "version": "3.6.6"
  }
 },
 "nbformat": 4,
 "nbformat_minor": 2
}
